{
  "cells": [
    {
      "cell_type": "code",
      "execution_count": 4,
      "metadata": {
        "collapsed": true,
        "id": "u1JUUjI7kaXl"
      },
      "outputs": [],
      "source": [
        "!pip install langchain langchain-community langchain-huggingface langchain-text-splitters langchain-chroma \\\n",
        "             pypdf sentence-transformers transformers torch accelerate bitsandbytes --quiet"
      ]
    },
    {
      "cell_type": "code",
      "execution_count": 5,
      "metadata": {
        "colab": {
          "base_uri": "https://localhost:8080/",
          "height": 17,
          "referenced_widgets": [
            "666916bdb9bd41dd9e60bcf7af6e4ed0",
            "2b6f33fef2964f1db112e2600991d509",
            "8d28e65e4bca4218927404bb791c9011",
            "b268442e13b343a0b5fedf524bd6c72c",
            "baae81bbff6e43539305637173adc866",
            "ee53f6659cec4d5785da68b0bb744cae",
            "bdd87cfb927340d9ad5946eebc0807ec",
            "30e0fb1a0f2f4d09a4de2252b5044b01",
            "1bcbc0850d5c4a6894fa263c0f16b918",
            "4a7f7ce85f324fac9e86bd875e1a94da",
            "668aa9c90c704edd9d774b387807c893",
            "2d5f1e61eb804161b986bd62bb046ece",
            "397b424d0fe643b891ec8dd5177beceb",
            "96f02b607dc5440f9fa3bfc0aec79090",
            "130082997b7a493bae911acb4c2f9143",
            "27e96c7d413b4007a7d0af251f0c0d41",
            "b9b2c8900ed84763a1990c8185cdfdbb",
            "d8faac94424f464ab6287593dd940428",
            "48a4f5a0eaba4c9caf5287c894c81fd4",
            "48ae2116e02d47d8b5117b871292bc57"
          ]
        },
        "id": "AQc-Pat8t4cr",
        "outputId": "0f7c52b8-1d8e-461f-d985-eb8d3c7612eb"
      },
      "outputs": [
        {
          "output_type": "display_data",
          "data": {
            "text/plain": [
              "VBox(children=(HTML(value='<center> <img\\nsrc=https://huggingface.co/front/assets/huggingface_logo-noborder.sv…"
            ],
            "application/vnd.jupyter.widget-view+json": {
              "version_major": 2,
              "version_minor": 0,
              "model_id": "666916bdb9bd41dd9e60bcf7af6e4ed0"
            }
          },
          "metadata": {}
        }
      ],
      "source": [
        "from huggingface_hub import notebook_login\n",
        "\n",
        "notebook_login()"
      ]
    },
    {
      "cell_type": "code",
      "execution_count": 6,
      "metadata": {
        "colab": {
          "base_uri": "https://localhost:8080/"
        },
        "id": "fwhM0E6RsL2e",
        "outputId": "fef82e96-cc24-4e37-f2ff-248b0e443c76"
      },
      "outputs": [
        {
          "output_type": "stream",
          "name": "stdout",
          "text": [
            "device: cuda\n"
          ]
        }
      ],
      "source": [
        "import os\n",
        "import torch\n",
        "\n",
        "device = torch.device(\"cuda\" if torch.cuda.is_available() else \"cpu\")\n",
        "print(f\"device: {device}\")\n",
        "\n",
        "EMBEDDING_MODEL_NAME = \"PartAI/Tooka-SBERT-V2-Large\"\n",
        "\n",
        "LLM_MODEL_NAME = \"PartAI/Dorna2-Llama3.1-8B-Instruct\"\n",
        "\n",
        "PERSIST_DIRECTORY = \"./chromadb_persian_rag\"\n",
        "PDF_FILE_NAME = None"
      ]
    },
    {
      "cell_type": "code",
      "execution_count": 7,
      "metadata": {
        "id": "VltDM5ILsL0F",
        "colab": {
          "base_uri": "https://localhost:8080/",
          "height": 92
        },
        "outputId": "989b009d-d302-48a8-fd77-c34b3c3be387"
      },
      "outputs": [
        {
          "output_type": "display_data",
          "data": {
            "text/plain": [
              "<IPython.core.display.HTML object>"
            ],
            "text/html": [
              "\n",
              "     <input type=\"file\" id=\"files-ca15e14d-4e38-4968-9967-33fb567d494f\" name=\"files[]\" multiple disabled\n",
              "        style=\"border:none\" />\n",
              "     <output id=\"result-ca15e14d-4e38-4968-9967-33fb567d494f\">\n",
              "      Upload widget is only available when the cell has been executed in the\n",
              "      current browser session. Please rerun this cell to enable.\n",
              "      </output>\n",
              "      <script>// Copyright 2017 Google LLC\n",
              "//\n",
              "// Licensed under the Apache License, Version 2.0 (the \"License\");\n",
              "// you may not use this file except in compliance with the License.\n",
              "// You may obtain a copy of the License at\n",
              "//\n",
              "//      http://www.apache.org/licenses/LICENSE-2.0\n",
              "//\n",
              "// Unless required by applicable law or agreed to in writing, software\n",
              "// distributed under the License is distributed on an \"AS IS\" BASIS,\n",
              "// WITHOUT WARRANTIES OR CONDITIONS OF ANY KIND, either express or implied.\n",
              "// See the License for the specific language governing permissions and\n",
              "// limitations under the License.\n",
              "\n",
              "/**\n",
              " * @fileoverview Helpers for google.colab Python module.\n",
              " */\n",
              "(function(scope) {\n",
              "function span(text, styleAttributes = {}) {\n",
              "  const element = document.createElement('span');\n",
              "  element.textContent = text;\n",
              "  for (const key of Object.keys(styleAttributes)) {\n",
              "    element.style[key] = styleAttributes[key];\n",
              "  }\n",
              "  return element;\n",
              "}\n",
              "\n",
              "// Max number of bytes which will be uploaded at a time.\n",
              "const MAX_PAYLOAD_SIZE = 100 * 1024;\n",
              "\n",
              "function _uploadFiles(inputId, outputId) {\n",
              "  const steps = uploadFilesStep(inputId, outputId);\n",
              "  const outputElement = document.getElementById(outputId);\n",
              "  // Cache steps on the outputElement to make it available for the next call\n",
              "  // to uploadFilesContinue from Python.\n",
              "  outputElement.steps = steps;\n",
              "\n",
              "  return _uploadFilesContinue(outputId);\n",
              "}\n",
              "\n",
              "// This is roughly an async generator (not supported in the browser yet),\n",
              "// where there are multiple asynchronous steps and the Python side is going\n",
              "// to poll for completion of each step.\n",
              "// This uses a Promise to block the python side on completion of each step,\n",
              "// then passes the result of the previous step as the input to the next step.\n",
              "function _uploadFilesContinue(outputId) {\n",
              "  const outputElement = document.getElementById(outputId);\n",
              "  const steps = outputElement.steps;\n",
              "\n",
              "  const next = steps.next(outputElement.lastPromiseValue);\n",
              "  return Promise.resolve(next.value.promise).then((value) => {\n",
              "    // Cache the last promise value to make it available to the next\n",
              "    // step of the generator.\n",
              "    outputElement.lastPromiseValue = value;\n",
              "    return next.value.response;\n",
              "  });\n",
              "}\n",
              "\n",
              "/**\n",
              " * Generator function which is called between each async step of the upload\n",
              " * process.\n",
              " * @param {string} inputId Element ID of the input file picker element.\n",
              " * @param {string} outputId Element ID of the output display.\n",
              " * @return {!Iterable<!Object>} Iterable of next steps.\n",
              " */\n",
              "function* uploadFilesStep(inputId, outputId) {\n",
              "  const inputElement = document.getElementById(inputId);\n",
              "  inputElement.disabled = false;\n",
              "\n",
              "  const outputElement = document.getElementById(outputId);\n",
              "  outputElement.innerHTML = '';\n",
              "\n",
              "  const pickedPromise = new Promise((resolve) => {\n",
              "    inputElement.addEventListener('change', (e) => {\n",
              "      resolve(e.target.files);\n",
              "    });\n",
              "  });\n",
              "\n",
              "  const cancel = document.createElement('button');\n",
              "  inputElement.parentElement.appendChild(cancel);\n",
              "  cancel.textContent = 'Cancel upload';\n",
              "  const cancelPromise = new Promise((resolve) => {\n",
              "    cancel.onclick = () => {\n",
              "      resolve(null);\n",
              "    };\n",
              "  });\n",
              "\n",
              "  // Wait for the user to pick the files.\n",
              "  const files = yield {\n",
              "    promise: Promise.race([pickedPromise, cancelPromise]),\n",
              "    response: {\n",
              "      action: 'starting',\n",
              "    }\n",
              "  };\n",
              "\n",
              "  cancel.remove();\n",
              "\n",
              "  // Disable the input element since further picks are not allowed.\n",
              "  inputElement.disabled = true;\n",
              "\n",
              "  if (!files) {\n",
              "    return {\n",
              "      response: {\n",
              "        action: 'complete',\n",
              "      }\n",
              "    };\n",
              "  }\n",
              "\n",
              "  for (const file of files) {\n",
              "    const li = document.createElement('li');\n",
              "    li.append(span(file.name, {fontWeight: 'bold'}));\n",
              "    li.append(span(\n",
              "        `(${file.type || 'n/a'}) - ${file.size} bytes, ` +\n",
              "        `last modified: ${\n",
              "            file.lastModifiedDate ? file.lastModifiedDate.toLocaleDateString() :\n",
              "                                    'n/a'} - `));\n",
              "    const percent = span('0% done');\n",
              "    li.appendChild(percent);\n",
              "\n",
              "    outputElement.appendChild(li);\n",
              "\n",
              "    const fileDataPromise = new Promise((resolve) => {\n",
              "      const reader = new FileReader();\n",
              "      reader.onload = (e) => {\n",
              "        resolve(e.target.result);\n",
              "      };\n",
              "      reader.readAsArrayBuffer(file);\n",
              "    });\n",
              "    // Wait for the data to be ready.\n",
              "    let fileData = yield {\n",
              "      promise: fileDataPromise,\n",
              "      response: {\n",
              "        action: 'continue',\n",
              "      }\n",
              "    };\n",
              "\n",
              "    // Use a chunked sending to avoid message size limits. See b/62115660.\n",
              "    let position = 0;\n",
              "    do {\n",
              "      const length = Math.min(fileData.byteLength - position, MAX_PAYLOAD_SIZE);\n",
              "      const chunk = new Uint8Array(fileData, position, length);\n",
              "      position += length;\n",
              "\n",
              "      const base64 = btoa(String.fromCharCode.apply(null, chunk));\n",
              "      yield {\n",
              "        response: {\n",
              "          action: 'append',\n",
              "          file: file.name,\n",
              "          data: base64,\n",
              "        },\n",
              "      };\n",
              "\n",
              "      let percentDone = fileData.byteLength === 0 ?\n",
              "          100 :\n",
              "          Math.round((position / fileData.byteLength) * 100);\n",
              "      percent.textContent = `${percentDone}% done`;\n",
              "\n",
              "    } while (position < fileData.byteLength);\n",
              "  }\n",
              "\n",
              "  // All done.\n",
              "  yield {\n",
              "    response: {\n",
              "      action: 'complete',\n",
              "    }\n",
              "  };\n",
              "}\n",
              "\n",
              "scope.google = scope.google || {};\n",
              "scope.google.colab = scope.google.colab || {};\n",
              "scope.google.colab._files = {\n",
              "  _uploadFiles,\n",
              "  _uploadFilesContinue,\n",
              "};\n",
              "})(self);\n",
              "</script> "
            ]
          },
          "metadata": {}
        },
        {
          "output_type": "stream",
          "name": "stdout",
          "text": [
            "Saving gozaresh.pdf to gozaresh.pdf\n",
            "'gozaresh.pdf' succesfully uploaded!\n"
          ]
        }
      ],
      "source": [
        "from google.colab import files\n",
        "\n",
        "uploaded = files.upload()\n",
        "\n",
        "PDF_FILE_NAME = list(uploaded.keys())[0]\n",
        "print(f\"'{PDF_FILE_NAME}' succesfully uploaded!\")"
      ]
    },
    {
      "cell_type": "code",
      "execution_count": 9,
      "metadata": {
        "id": "dCRTJsXysLxn",
        "colab": {
          "base_uri": "https://localhost:8080/"
        },
        "outputId": "2f7caa5d-6fca-46a1-cf96-bb04ae696dd3"
      },
      "outputs": [
        {
          "output_type": "stream",
          "name": "stdout",
          "text": [
            "document has 17 pages!\n",
            "number of chunks: 228\n"
          ]
        }
      ],
      "source": [
        "from langchain_community.document_loaders import PyPDFLoader\n",
        "from langchain_text_splitters import RecursiveCharacterTextSplitter\n",
        "\n",
        "loader = PyPDFLoader(PDF_FILE_NAME)\n",
        "documents = loader.load()\n",
        "\n",
        "print(f\"document has {len(documents)} pages!\")\n",
        "text_splitter = RecursiveCharacterTextSplitter(\n",
        "    chunk_size=100,\n",
        "    chunk_overlap=50,\n",
        "    length_function=len,\n",
        "    is_separator_regex=False,\n",
        ")\n",
        "chunks = text_splitter.split_documents(documents)\n",
        "print(f\"number of chunks: {len(chunks)}\")\n"
      ]
    },
    {
      "cell_type": "code",
      "source": [
        "from langchain_community.embeddings import HuggingFaceEmbeddings\n",
        "\n",
        "embedding_model_kwargs = {'device': device.type}\n",
        "embedding_encode_kwargs = {'normalize_embeddings': True}\n",
        "\n",
        "embeddings = HuggingFaceEmbeddings(\n",
        "    model_name=EMBEDDING_MODEL_NAME,\n",
        "    model_kwargs=embedding_model_kwargs,\n",
        "    encode_kwargs=embedding_encode_kwargs\n",
        ")\n",
        "test = embeddings.embed_query(\"یک جمله تست!\")\n",
        "# len(test)"
      ],
      "metadata": {
        "colab": {
          "base_uri": "https://localhost:8080/",
          "height": 520,
          "referenced_widgets": [
            "c92a1246bc8b46d8be3ad2b4b6fdbc97",
            "8880f98757834a21b8d264e15292dc6c",
            "1b2603ee7641413cbf7ef809f6806938",
            "08522060255d49cdb8ab00858e76c696",
            "06830d76ee2b4741a8f8932e4f10045e",
            "fd5df4732e0542f68afad3804066567d",
            "f7d1783f76c049f992f290bd1a166d00",
            "9e755474a5df481a83a5258e51e0026e",
            "91fa13b82c42482999b531b78d96d040",
            "d4571608233d452a8a0ffcc5bfa83b7c",
            "35baca901b534daa88815cff95eff74b",
            "65395af366a149e8a9e36c2e4cb13b45",
            "d1b3636113c3477e80e173c12497eba0",
            "9b1db0f593564bf2a4a8367dca46b4a7",
            "3756fc23dc974facaf9007820386cec0",
            "f268a961b40942a79602797d92e16c59",
            "0d104b2e4b6a423480f1946bbb267789",
            "2ec2791d396f4bf3a771e823290be6ba",
            "54c35d9155734064a07fd4d339d03b00",
            "84d1af386b06435d8b658e3f5a1723c3",
            "f1945592626049d79fbece81f00c6b71",
            "018bab22a83745b582d1d1b7f4a9f14f",
            "a18c66c3f9f34f5dabd1c643122ea18c",
            "40d81a2b70c54bdeb024515d909716b0",
            "3425aaa2a6fe485cb12c05bb3fc0510a",
            "94c4813193974ab29ce725f083ab208a",
            "d1416819b6514d8a97782217354b8749",
            "510d7af8f4524e0693eba4ae440c88d4",
            "2bd686c8f46841989a2fff96f4506082",
            "6cb955f4cf024207979a3215483dae7d",
            "b7d7aaa516c64c59a6d7e39524e066c6",
            "eda75a2bcf2640cba30d988c14456090",
            "b874868e012f41e4b96611349de6a2b2",
            "17bd87cd6e97401a8e29115f24ce7817",
            "c17fe28f05bb49c18f6660ce3ab7f0cb",
            "1381d75d18554160a5cd9847515c6830",
            "36f631d2100343c99460f75bd98c5d64",
            "bfad238acb8349798a20d50baec84ce7",
            "f0d12ce18e25429cb02c127ca7a0ae79",
            "effb0523ec014a2b99325945055063ac",
            "c884cf17f0a94fa6934ef167b75f7a9f",
            "a366784d7b85423b88eaea4d20a9d644",
            "b02b6ae7b6dc49b3a0f18c4891ed844f",
            "09287a10234b483cbabdb5fb2a59d5db",
            "02c25b0c25aa414bb29baf0ff2b30349",
            "36edd5cb88be4729b4781e62601719ed",
            "5c99ec88b18a4a7d938ed77708b0039a",
            "3e06ce25c21a435ab19570d96668b4a6",
            "8e96cf5d41be44f59c62e7d9887a8980",
            "e8f9ac388165433999551b09d376b82b",
            "a1c58987ea7447f48a0af898e3998444",
            "751df710a2fe4614b5aba4ac6ff16376",
            "09ecec51fc9c47c2942b479f615aa71d",
            "5805c2e149a64eabacab27b00c7ca6b8",
            "df7637677fdf4763842ce74ba0819282",
            "24631c2e1d0c40caadc689a7c9a2da34",
            "8fdda9a861f94978b5b17df68d127533",
            "9a20313e32ec47ddbb3b5df0a7870b50",
            "d001812ab50e45e8976fdc9e13c3c589",
            "692c324d6e664248ab522181780c01a8",
            "c49bc264e29a4f42bea1a8c72c67d470",
            "8955fd06963e4c43ba842f287c391a9d",
            "539fcb5377d847c6a603e4c8558c0f18",
            "9d4588557c6249678d6f3df1e078a549",
            "c8660fe2f2c5495e897f0a0074c5eb07",
            "ab7cfd9bef93438dbd6b836dd31cf5b4",
            "a12d5e08fff34645b3dd1a026837bc3d",
            "88eddece8f0c4798a8a0854fe549e385",
            "2fafe084c43a4a28b61e87ae5525b0ec",
            "e31feda3e3e44f30af3a7547cc378dd0",
            "1a7173ad4877444a93d5fd17fd581598",
            "9faf8e88da5c4ce2b314754f1810c556",
            "80b929bc2e9d4f409defa80f0aa4dd41",
            "56514137e852430fac4162bb47cdef7f",
            "1f028fa5254a448f888d843647507fb0",
            "c0d02f50f1ae49db832789457e6ca154",
            "44bb6d74d6d7462ebab18d2a0a3b45d2",
            "94627dc3231340f99f1da2b4670794a6",
            "a93ae2ed5e0e49fea9e3914859bcfe8b",
            "ccc2ccaceeb44469a0b5d4aa432f15bd",
            "192e165cfc4f414384bdaadaa2fc3302",
            "321de8e8dec24272b38167d2a0c3b80d",
            "37402810eaa641dd9d8380cf85116416",
            "17610806c29e4e3595c95fc99fcfe585",
            "8dd851b8b5d14da3a746d8d6b6133920",
            "a167cd602f2b4d179606c7c5243e8c7b",
            "672ec60a512d4a3e8656239ac06bafae",
            "e666015bbdbb48f1bdf2ee863ef3b185",
            "e992635b5fd94494812d8fb66705c40e",
            "a09cf288ec324b398dcf449fab30ae3d",
            "47a187e4b1854bccb6d1c26b530dc1dd",
            "c29a3d7708434a3f93d7b665f6fa8950",
            "3c7bbfc564fd4fcdb3dadba621d250ed",
            "96b763c146fe40d7a0e773d0428bbd79",
            "81d0ebd6222444a5ad972fa96a872198",
            "64c8ada0eba548629dfd979c18d59287",
            "4f3cfd4a2afa4b7dbd802280323b7ec8",
            "95d6d66e46674cd59a2e65473efc102f",
            "d084cfae76fd4f9d8633d61adbd7ef35",
            "e7e7de51c9a749e6a492b780e6599c89",
            "e29bf39bf3be4fecac611117a3bd204e",
            "207efe708cae4564a239b44eec8c0781",
            "c5bc890f6cd649cda38ca46e2aca6400",
            "cf749473cb724c40beae4d88e536fa66",
            "5e07588ba71e47e2b1cb058b0bf56db5",
            "92df60c1cc284c9bb4709bf4e225d76c",
            "2152f4735ca84ddfa83480f486dfc081",
            "60f520be379e4db0b0521773ff623620",
            "64a59e4deb7d49c1b83850c8860968cd",
            "a62d3930cc1e49f0bbb5770863d2616c"
          ]
        },
        "id": "K93WovFHyW8S",
        "outputId": "aec154b3-a2d3-43fd-e5d2-c478c0295f9d"
      },
      "execution_count": 10,
      "outputs": [
        {
          "output_type": "stream",
          "name": "stderr",
          "text": [
            "<ipython-input-10-996686571e64>:6: LangChainDeprecationWarning: The class `HuggingFaceEmbeddings` was deprecated in LangChain 0.2.2 and will be removed in 1.0. An updated version of the class exists in the :class:`~langchain-huggingface package and should be used instead. To use it run `pip install -U :class:`~langchain-huggingface` and import as `from :class:`~langchain_huggingface import HuggingFaceEmbeddings``.\n",
            "  embeddings = HuggingFaceEmbeddings(\n",
            "/usr/local/lib/python3.11/dist-packages/huggingface_hub/utils/_auth.py:94: UserWarning: \n",
            "The secret `HF_TOKEN` does not exist in your Colab secrets.\n",
            "To authenticate with the Hugging Face Hub, create a token in your settings tab (https://huggingface.co/settings/tokens), set it as secret in your Google Colab and restart your session.\n",
            "You will be able to reuse this secret in all of your notebooks.\n",
            "Please note that authentication is recommended but still optional to access public models or datasets.\n",
            "  warnings.warn(\n"
          ]
        },
        {
          "output_type": "display_data",
          "data": {
            "text/plain": [
              "modules.json:   0%|          | 0.00/229 [00:00<?, ?B/s]"
            ],
            "application/vnd.jupyter.widget-view+json": {
              "version_major": 2,
              "version_minor": 0,
              "model_id": "c92a1246bc8b46d8be3ad2b4b6fdbc97"
            }
          },
          "metadata": {}
        },
        {
          "output_type": "display_data",
          "data": {
            "text/plain": [
              "config_sentence_transformers.json:   0%|          | 0.00/205 [00:00<?, ?B/s]"
            ],
            "application/vnd.jupyter.widget-view+json": {
              "version_major": 2,
              "version_minor": 0,
              "model_id": "65395af366a149e8a9e36c2e4cb13b45"
            }
          },
          "metadata": {}
        },
        {
          "output_type": "display_data",
          "data": {
            "text/plain": [
              "README.md:   0%|          | 0.00/6.84k [00:00<?, ?B/s]"
            ],
            "application/vnd.jupyter.widget-view+json": {
              "version_major": 2,
              "version_minor": 0,
              "model_id": "a18c66c3f9f34f5dabd1c643122ea18c"
            }
          },
          "metadata": {}
        },
        {
          "output_type": "display_data",
          "data": {
            "text/plain": [
              "sentence_bert_config.json:   0%|          | 0.00/53.0 [00:00<?, ?B/s]"
            ],
            "application/vnd.jupyter.widget-view+json": {
              "version_major": 2,
              "version_minor": 0,
              "model_id": "17bd87cd6e97401a8e29115f24ce7817"
            }
          },
          "metadata": {}
        },
        {
          "output_type": "display_data",
          "data": {
            "text/plain": [
              "config.json:   0%|          | 0.00/747 [00:00<?, ?B/s]"
            ],
            "application/vnd.jupyter.widget-view+json": {
              "version_major": 2,
              "version_minor": 0,
              "model_id": "02c25b0c25aa414bb29baf0ff2b30349"
            }
          },
          "metadata": {}
        },
        {
          "output_type": "display_data",
          "data": {
            "text/plain": [
              "model.safetensors:   0%|          | 0.00/1.41G [00:00<?, ?B/s]"
            ],
            "application/vnd.jupyter.widget-view+json": {
              "version_major": 2,
              "version_minor": 0,
              "model_id": "24631c2e1d0c40caadc689a7c9a2da34"
            }
          },
          "metadata": {}
        },
        {
          "output_type": "display_data",
          "data": {
            "text/plain": [
              "tokenizer_config.json:   0%|          | 0.00/1.38k [00:00<?, ?B/s]"
            ],
            "application/vnd.jupyter.widget-view+json": {
              "version_major": 2,
              "version_minor": 0,
              "model_id": "a12d5e08fff34645b3dd1a026837bc3d"
            }
          },
          "metadata": {}
        },
        {
          "output_type": "display_data",
          "data": {
            "text/plain": [
              "tokenizer.json:   0%|          | 0.00/3.97M [00:00<?, ?B/s]"
            ],
            "application/vnd.jupyter.widget-view+json": {
              "version_major": 2,
              "version_minor": 0,
              "model_id": "94627dc3231340f99f1da2b4670794a6"
            }
          },
          "metadata": {}
        },
        {
          "output_type": "display_data",
          "data": {
            "text/plain": [
              "special_tokens_map.json:   0%|          | 0.00/828 [00:00<?, ?B/s]"
            ],
            "application/vnd.jupyter.widget-view+json": {
              "version_major": 2,
              "version_minor": 0,
              "model_id": "e992635b5fd94494812d8fb66705c40e"
            }
          },
          "metadata": {}
        },
        {
          "output_type": "display_data",
          "data": {
            "text/plain": [
              "config.json:   0%|          | 0.00/297 [00:00<?, ?B/s]"
            ],
            "application/vnd.jupyter.widget-view+json": {
              "version_major": 2,
              "version_minor": 0,
              "model_id": "e7e7de51c9a749e6a492b780e6599c89"
            }
          },
          "metadata": {}
        },
        {
          "output_type": "execute_result",
          "data": {
            "text/plain": [
              "1024"
            ]
          },
          "metadata": {},
          "execution_count": 10
        }
      ]
    },
    {
      "cell_type": "code",
      "source": [
        "embeddings"
      ],
      "metadata": {
        "colab": {
          "base_uri": "https://localhost:8080/"
        },
        "id": "wgb-GMv8mtbu",
        "outputId": "e15306e2-8496-4ca4-bfa0-05bbb73f8eb2"
      },
      "execution_count": 11,
      "outputs": [
        {
          "output_type": "execute_result",
          "data": {
            "text/plain": [
              "HuggingFaceEmbeddings(client=SentenceTransformer(\n",
              "  (0): Transformer({'max_seq_length': 512, 'do_lower_case': False}) with Transformer model: BertModel \n",
              "  (1): Pooling({'word_embedding_dimension': 1024, 'pooling_mode_cls_token': False, 'pooling_mode_mean_tokens': True, 'pooling_mode_max_tokens': False, 'pooling_mode_mean_sqrt_len_tokens': False, 'pooling_mode_weightedmean_tokens': False, 'pooling_mode_lasttoken': False, 'include_prompt': True})\n",
              "), model_name='PartAI/Tooka-SBERT-V2-Large', cache_folder=None, model_kwargs={'device': 'cuda'}, encode_kwargs={'normalize_embeddings': True}, multi_process=False, show_progress=False)"
            ]
          },
          "metadata": {},
          "execution_count": 11
        }
      ]
    },
    {
      "cell_type": "code",
      "source": [
        "from langchain_community.vectorstores import Chroma\n",
        "\n",
        "vector_store = Chroma.from_documents(\n",
        "    documents=chunks,\n",
        "    embedding=embeddings,\n",
        "    persist_directory=PERSIST_DIRECTORY\n",
        ")"
      ],
      "metadata": {
        "id": "bnTjjiysyW3M"
      },
      "execution_count": 12,
      "outputs": []
    },
    {
      "cell_type": "code",
      "source": [
        "from transformers import AutoTokenizer, AutoModelForCausalLM, pipeline\n",
        "from langchain_huggingface.llms import HuggingFacePipeline\n",
        "\n",
        "tokenizer = AutoTokenizer.from_pretrained(LLM_MODEL_NAME)\n",
        "\n",
        "model = AutoModelForCausalLM.from_pretrained(\n",
        "    LLM_MODEL_NAME,\n",
        "    torch_dtype=torch.bfloat16,\n",
        "    device_map=\"auto\",\n",
        "    load_in_4bit=True,\n",
        "    # bnb_4bit_quant_type=\"nf4\",\n",
        "    # bnb_4bit_compute_dtype=torch.bfloat16\n",
        ")\n",
        "\n",
        "terminators = [\n",
        "    tokenizer.eos_token_id,\n",
        "    tokenizer.convert_tokens_to_ids(\"<|eot_id|>\")\n",
        "]\n",
        "\n",
        "text_generation_pipeline = pipeline(\n",
        "    \"text-generation\",\n",
        "    model=model,\n",
        "    tokenizer=tokenizer,\n",
        "    max_new_tokens=128,\n",
        "    do_sample=True,\n",
        "    temperature=0.2,\n",
        "    top_p=0.9,\n",
        "    eos_token_id=terminators\n",
        ")\n",
        "\n",
        "llm = HuggingFacePipeline(pipeline=text_generation_pipeline)\n"
      ],
      "metadata": {
        "colab": {
          "base_uri": "https://localhost:8080/",
          "height": 137,
          "referenced_widgets": [
            "3d5af1dbf2ed429fb683b3e387b59455",
            "a542d16077334eb392fb3979dc5c8ea1",
            "e8ce6685b14e409b9d24f4072d0a35f1",
            "e3a931c8e47d4d7cb2978d867f966908",
            "19fd9e571d3d4f58ab817fd9aa5d7e3e",
            "6d03c24df5b54620a07e2312153e2c17",
            "aa586caf894d4013959ccbea1b33ec10",
            "b0b142a0c61948be99a0f5c11bb06360",
            "b42c1bf90e714a1782d821dc2c2c067b",
            "fec1828802844217989e46f7734b2126",
            "5ef13a20e5704323b4f83589c9478647",
            "843393b978844d0989402f523976f16e",
            "97c295a7a3f546128507b15f8c7c1daf",
            "db76389c2781489bbf2e0e1554cceb79",
            "22c06a8111ef48419684d1b13636ddd6",
            "df52b13be48b448d8ea19201bb7f04f4",
            "c93ccdff1d74428abc697af8957f6ce6",
            "caec2fa574c7429da629422f728edfb3",
            "eaec6c01efc948af8abc1e8d7f1d1dbd",
            "fc4a817fff36441bac01a9e1ec952c22",
            "82208174678343c6bf6639e0345963e9",
            "a3c3a12d1ffb4916b06ecad85947f334"
          ]
        },
        "id": "iYPYV_zKynrb",
        "outputId": "63516122-66ed-4fc8-bb2b-402e4fb609f1"
      },
      "execution_count": 16,
      "outputs": [
        {
          "output_type": "stream",
          "name": "stderr",
          "text": [
            "The `load_in_4bit` and `load_in_8bit` arguments are deprecated and will be removed in the future versions. Please, pass a `BitsAndBytesConfig` object in `quantization_config` argument instead.\n"
          ]
        },
        {
          "output_type": "display_data",
          "data": {
            "text/plain": [
              "Loading checkpoint shards:   0%|          | 0/5 [00:00<?, ?it/s]"
            ],
            "application/vnd.jupyter.widget-view+json": {
              "version_major": 2,
              "version_minor": 0,
              "model_id": "3d5af1dbf2ed429fb683b3e387b59455"
            }
          },
          "metadata": {}
        },
        {
          "output_type": "display_data",
          "data": {
            "text/plain": [
              "generation_config.json:   0%|          | 0.00/184 [00:00<?, ?B/s]"
            ],
            "application/vnd.jupyter.widget-view+json": {
              "version_major": 2,
              "version_minor": 0,
              "model_id": "843393b978844d0989402f523976f16e"
            }
          },
          "metadata": {}
        },
        {
          "output_type": "stream",
          "name": "stderr",
          "text": [
            "Device set to use cuda:0\n"
          ]
        }
      ]
    },
    {
      "cell_type": "code",
      "source": [
        "from langchain.prompts import PromptTemplate\n",
        "from langchain.chains import RetrievalQA\n",
        "from langchain_core.prompts import ChatPromptTemplate, SystemMessagePromptTemplate, HumanMessagePromptTemplate\n",
        "\n",
        "retriever = vector_store.as_retriever(\n",
        "    search_type=\"similarity\",\n",
        "    search_kwargs={\"k\": 5}\n",
        ")\n",
        "\n",
        "# system_prompt_fa = \"\"\"\n",
        "# شما یک دستیار هوش مصنوعی بسیار مفید و دقیق هستید. وظیفه شما این است که به سوالات کاربر فقط و فقط بر اساس اطلاعات زمینه (متن‌های بازیابی شده) که در ادامه ارائه می‌شود، پاسخ دهید.\n",
        "# پاسخ‌های شما باید کاملاً مبتنی بر زمینه باشد. از دانش عمومی خودتان به هیچ وجه استفاده نکنید.\n",
        "# اگر پاسخ سوال به طور واضح در زمینه موجود نیست، باید به صراحت بیان کنید که \"اطلاعات کافی برای پاسخ به این سوال در متون ارائه شده وجود ندارد.\"\n",
        "# سعی نکنید پاسخی خارج از اطلاعات زمینه بسازید یا حدس بزنید.\n",
        "# پاسخ خود را به زبان فارسی روان، واضح و دقیق ارائه دهید. پاسخ باید تا حد امکان کامل و در عین حال مختصر باشد و مستقیماً به سوال کاربر بپردازد.\n",
        "# \"\"\"\n",
        "\n",
        "system_prompt_fa = \"\"\"\n",
        "بر اساس اطلاعات زمینه (متن‌های بازیابی شده)، به سوالات کاربر پاسخ بده. اگر پاسخ سوال رو پیدا نکردی، بگو \"اطلاعات کافی موجود نیست\".\n",
        "\"\"\"\n",
        "\n",
        "# user_prompt_template_fa = \"\"\"\n",
        "# بر اساس اطلاعات زمینه زیر:\n",
        "# <زمینه>\n",
        "# {context}\n",
        "# </زمینه>\n",
        "\n",
        "# به این سوال کاربر پاسخ دقیق بده:\n",
        "# <سوال_کاربر>\n",
        "# {question}\n",
        "# </سوال_کاربر>\n",
        "\n",
        "# پاسخ دقیق و مبتنی بر زمینه به زبان فارسی:\n",
        "# \"\"\"\n",
        "\n",
        "# prompt = ChatPromptTemplate.from_messages([\n",
        "#     SystemMessagePromptTemplate.from_template(system_prompt_fa),\n",
        "#     HumanMessagePromptTemplate.from_template(user_prompt_template_fa)\n",
        "# ])\n",
        "\n",
        "\n",
        "simple_persian_prompt_template = f\"\"\"\n",
        "<|begin_of_text|><|start_header_id|>system<|end_header_id|>{system_prompt_fa}<|eot_id|><|start_header_id|>user<|end_header_id|>\n",
        "زمینه:\n",
        "{{context}}\n",
        "\n",
        "سوال کاربر: {{question}}<|eot_id|><|start_header_id|>assistant<|end_header_id|>\n",
        "پاسخ دقیق و مبتنی بر زمینه به زبان فارسی:\n",
        "\"\"\"\n",
        "PROMPT = PromptTemplate(\n",
        "    template=simple_persian_prompt_template, input_variables=[\"context\", \"question\"]\n",
        ")\n",
        "\n",
        "chain_type_kwargs = {\"prompt\": PROMPT}\n",
        "\n",
        "qa_chain = RetrievalQA.from_chain_type(\n",
        "    llm=llm,\n",
        "    chain_type=\"stuff\",\n",
        "    retriever=retriever,\n",
        "    return_source_documents=False,\n",
        "    chain_type_kwargs=chain_type_kwargs\n",
        ")"
      ],
      "metadata": {
        "id": "wcxsaEKDyWxP"
      },
      "execution_count": 17,
      "outputs": []
    },
    {
      "cell_type": "code",
      "source": [
        "if qa_chain:\n",
        "    queries_persian = [\n",
        "        \"داور فینال لیگ قهرمانان اروپا 2026 کی بود؟\",\n",
        "        \"دقیقه 67 رو توصیف کن\",\n",
        "        \"بارسلونا چند گل زد؟\",\n",
        "        \"در مورد لامین یامال بهم بگو\",\n",
        "        \"آب و هوا چطور بود؟\"\n",
        "    ]\n",
        "\n",
        "    for query in queries_persian:\n",
        "        print(f\"query: {query}\")\n",
        "        print(\"processing ...\")\n",
        "        result = qa_chain.invoke({\"query\": query})\n",
        "\n",
        "        print(\"response:\")\n",
        "        response_text = result[\"result\"].strip()\n",
        "        print(response_text)\n",
        "\n",
        "\n",
        "        # print(\"\\n\")\n",
        "        # if result.get(\"source_documents\"):\n",
        "        #     for i, doc in enumerate(result[\"source_documents\"]):\n",
        "        #         print(f\"resource - {i+1}\")\n",
        "        #         page_content_preview = \" \".join(doc.page_content.splitlines())\n",
        "        #         print(f\"page_content_preview: {page_content_preview[:250]}...\")\n",
        "        #         if doc.metadata.get(\"page\"):\n",
        "        #             print(f\"page: {doc.metadata['page'] + 1}\")\n",
        "        #         print(\"=========================================================\")\n",
        "        # else:\n",
        "        #     print(\"not found!\")\n",
        "else:\n",
        "    print(\"QA chain not available\")"
      ],
      "metadata": {
        "colab": {
          "base_uri": "https://localhost:8080/"
        },
        "id": "jRGlfr90yWuq",
        "outputId": "f16d4fe4-62e8-43af-c5ef-fa66d3eb7b32"
      },
      "execution_count": 21,
      "outputs": [
        {
          "output_type": "stream",
          "name": "stdout",
          "text": [
            "query: داور فینال لیگ قهرمانان اروپا 2026 کی بود؟\n",
            "processing ...\n"
          ]
        },
        {
          "output_type": "stream",
          "name": "stderr",
          "text": [
            "You seem to be using the pipelines sequentially on GPU. In order to maximize efficiency please use a dataset\n"
          ]
        },
        {
          "output_type": "stream",
          "name": "stdout",
          "text": [
            "response:\n",
            "<|begin_of_text|><|start_header_id|>system<|end_header_id|>\n",
            "بر اساس اطلاعات زمینه (متن‌های بازیابی شده)، به سوالات کاربر پاسخ بده. اگر پاسخ سوال رو پیدا نکردی، بگو \"اطلاعات کافی موجود نیست\". \n",
            "<|eot_id|><|start_header_id|>user<|end_header_id|>\n",
            "زمینه:\n",
            "گزارش زنده فینال لیگ قهرمانان اروپا۶۲۰۲:  بارسلونا در مقابل منچسترسیتی  -  شبی به\n",
            "\n",
            "قهرمان لیگ قهرمانان اروپا در سال  ۶۲۰۲  شد! بازیکنان و کادر فنی بارسلونا به داخل زمین هجوم\n",
            "\n",
            "فینال لیگ قهرمانان اروپا در سال  ۶۲۰۲، یک بازی کلاسیک و به یاد ماندنی بود. بارسلونا با وجود\n",
            "\n",
            "سال اخیر، به فینال لیگ قهرمانان صعود کنند. ارلینگ هالند، ماشین گلزنی نروژی، در کنار\n",
            "\n",
            "• مهاجم:  ارلینگ هالند  \n",
            "سرمربی: پپ گواردیولا  \n",
            "داور بازی:  آقای کلمن تورپن از فرانسه\n",
            "\n",
            "سوال کاربر: داور فینال لیگ قهرمانان اروپا 2026 کی بود؟<|eot_id|><|start_header_id|>assistant<|end_header_id|>\n",
            "پاسخ دقیق و مبتنی بر زمینه به زبان فارسی:\n",
            "آقای کلمن تورپن، داور فرانسوی، مسئولیت هدایت بازی فینال لیگ قهرمانان اروپا در سال ۲۰۲۶ را بر عهده داشت.\n",
            "query: دقیقه 67 رو توصیف کن\n",
            "processing ...\n",
            "response:\n",
            "<|begin_of_text|><|start_header_id|>system<|end_header_id|>\n",
            "بر اساس اطلاعات زمینه (متن‌های بازیابی شده)، به سوالات کاربر پاسخ بده. اگر پاسخ سوال رو پیدا نکردی، بگو \"اطلاعات کافی موجود نیست\". \n",
            "<|eot_id|><|start_header_id|>user<|end_header_id|>\n",
            "زمینه:\n",
            "دقیقه۶۵:  گــــــــــــــــــــــــــــــــــــــــــــــــــــــل\n",
            "\n",
            "فاز هجومی تیمش است.  \n",
            "بخش ششم: دقایق پایانی پر التهاب و درخشش یک پدیده (دقیقه  ۶۷ تا ۰۹)\n",
            "\n",
            "دقیقه۶۷:   بازی به دقایق حساس خود نزدیک میشود. هر دو تیم برای زدن گل برتری تلاش\n",
            "\n",
            "دقیقه  ۵+۰۹:   \n",
            "ســــــــــــــــــــــــــــــــــــــــــــــــــــــوت\n",
            "\n",
            "دقیقه  ۴۱:  منچسترسیتی بلافاصله به دنبال جبران گل خورده است. برناردو سیلوا با حرکتی از\n",
            "\n",
            "سوال کاربر: دقیقه 67 رو توصیف کن<|eot_id|><|start_header_id|>assistant<|end_header_id|>\n",
            "پاسخ دقیق و مبتنی بر زمینه به زبان فارسی:\n",
            "دقیقه ۶۷: بازی به لحظه‌های حساس و پرتنش نزدیک می‌شود. هر دو تیم با شدت تلاش می‌کنند تا گل برتری را به ثمر بنشانند و برتری خود را در بازی نشان دهند. این لحظه‌ها معمولاً پر از هیجان و درخشش است و بازیکنان با تلاش‌های شدید خود، روحیه و انرژی خود را به حداکثر می‌رسانند.\n",
            "query: بارسلونا چند گل زد؟\n",
            "processing ...\n",
            "response:\n",
            "<|begin_of_text|><|start_header_id|>system<|end_header_id|>\n",
            "بر اساس اطلاعات زمینه (متن‌های بازیابی شده)، به سوالات کاربر پاسخ بده. اگر پاسخ سوال رو پیدا نکردی، بگو \"اطلاعات کافی موجود نیست\". \n",
            "<|eot_id|><|start_header_id|>user<|end_header_id|>\n",
            "زمینه:\n",
            "بــــــــــــــــــــــــــــــــــــــــــــــــــــــازی!  بارسلونا\n",
            "\n",
            "بارسلونا ۲ - ۱ منچسترسیتی\n",
            "\n",
            "است. چه شب باشکوهی برای فوتبال اسپانیا و باشگاه بارسلونا! \n",
            "بارسلونا ۲ - ۱ منچسترسیتی\n",
            "\n",
            "بارسلونا! شاگردان ژاوی باید بیش از  ۰۴  دقیقه با یک بازیکن کمتر به بازی ادامه دهند. ژاوی در\n",
            "\n",
            "بارسلونا!  باورنکردنی! در حالی که همگان منتظر گل دوم منچسترسیتی بودند، این بارسلونا بود که\n",
            "\n",
            "سوال کاربر: بارسلونا چند گل زد؟<|eot_id|><|start_header_id|>assistant<|end_header_id|>\n",
            "پاسخ دقیق و مبتنی بر زمینه به زبان فارسی:\n",
            "بارسلونا ۲ گل زد.\n",
            "query: در مورد لامین یامال بهم بگو\n",
            "processing ...\n",
            "response:\n",
            "<|begin_of_text|><|start_header_id|>system<|end_header_id|>\n",
            "بر اساس اطلاعات زمینه (متن‌های بازیابی شده)، به سوالات کاربر پاسخ بده. اگر پاسخ سوال رو پیدا نکردی، بگو \"اطلاعات کافی موجود نیست\". \n",
            "<|eot_id|><|start_header_id|>user<|end_header_id|>\n",
            "زمینه:\n",
            "بدون شک،  لامینه یامال، پدیده  ۸۱  ساله بارسلونا، با به ثمر رساندن گل پیروزیبخش تیمش و\n",
            "\n",
            "به گل رسید! لامینه یامال، پدیده  ۸۱  ساله بارسلونا، با یک حرکت انفرادی خارقالعاده از میانه میدان،\n",
            "\n",
            "گل تساوی رسید، اما این پایان کار نبود. سوپرگل لامینه یامال در دقایق پایانی، سرنوشت بازی را\n",
            "\n",
            "دقیقه۵۶: لامینه یامال با یک حرکت انفرادی زیبا، سعی در ایجاد موقعیت برای بارسلونا دارد، اما\n",
            "\n",
            "ــــــــــــــــــــــــــــــــــــــــــــــان\n",
            "\n",
            "سوال کاربر: در مورد لامین یامال بهم بگو<|eot_id|><|start_header_id|>assistant<|end_header_id|>\n",
            "پاسخ دقیق و مبتنی بر زمینه به زبان فارسی:\n",
            "لامینه یامال، یک بازیکن فوتبال ۸۱ ساله است که برای باشگاه بارسلونا بازی می‌کند. او در بازی اخیر تیمش، گل پیروزی را به ثمر رساند و همچنین در دقیقه ۵۶، با یک حرکت انفرادی خارقالعاده، گل تساوی را نیز به ثمر رساند. این گل‌های او در دقایق پایانی بازی، سرنوشت بازی را تغییر داد و باعث شد تیمش پیروز شود.\n",
            "query: آب و هوا چطور بود؟\n",
            "processing ...\n",
            "response:\n",
            "<|begin_of_text|><|start_header_id|>system<|end_header_id|>\n",
            "بر اساس اطلاعات زمینه (متن‌های بازیابی شده)، به سوالات کاربر پاسخ بده. اگر پاسخ سوال رو پیدا نکردی، بگو \"اطلاعات کافی موجود نیست\". \n",
            "<|eot_id|><|start_header_id|>user<|end_header_id|>\n",
            "زمینه:\n",
            "شرایط آب و هوایی:  هوای شهر استانبول در زمان برگزاری بازی، صاف و دلپذیر با دمای تقریبی\n",
            "\n",
            "۲۲  درجه سانتیگراد پیشبینی میشود. وزش باد ملایمی نیز در جریان خواهد بود که تأثیر چندانی\n",
            "\n",
            "ــــــــــــــــــــــــــــــــــــــــــــــان\n",
            "\n",
            "دیگر خواهد بود.  \n",
            "بخش اول: آغاز طوفانی و دقایق پر التهاب (دقیقه ۱ تا ۵۱)\n",
            "\n",
            "را به بیرون میزند! نفسها در سینه هواداران بارسلونا حبس شد. چه شروع پرهیجانی!\n",
            "\n",
            "سوال کاربر: آب و هوا چطور بود؟<|eot_id|><|start_header_id|>assistant<|end_header_id|>\n",
            "پاسخ دقیق و مبتنی بر زمینه به زبان فارسی:\n",
            "آب و هوا در زمان برگزاری بازی، صاف و دلپذیر است. دمای حدود ۲۲ درجه سانتیگراد پیش‌بینی شده و با وزش باد ملایمی همراه است که احتمال تأثیرگذاری بر بازی کم است.\n"
          ]
        }
      ]
    },
    {
      "cell_type": "code",
      "source": [],
      "metadata": {
        "id": "631EJmnfDiaJ"
      },
      "execution_count": null,
      "outputs": []
    },
    {
      "cell_type": "code",
      "source": [],
      "metadata": {
        "id": "vu00USr6sCFG"
      },
      "execution_count": null,
      "outputs": []
    },
    {
      "cell_type": "code",
      "source": [],
      "metadata": {
        "id": "ImZgnlrlsCDT"
      },
      "execution_count": null,
      "outputs": []
    },
    {
      "cell_type": "code",
      "source": [
        "!git add .\n",
        "!git commit -m \"add ipynb\"\n",
        "!git push -u origin main"
      ],
      "metadata": {
        "colab": {
          "base_uri": "https://localhost:8080/"
        },
        "id": "pBTYXfpQsCAl",
        "outputId": "0b295c36-0baa-47ee-9279-fd807f8b08ca"
      },
      "execution_count": 25,
      "outputs": [
        {
          "output_type": "stream",
          "name": "stdout",
          "text": [
            "On branch main\n",
            "Your branch is ahead of 'origin/main' by 1 commit.\n",
            "  (use \"git push\" to publish your local commits)\n",
            "\n",
            "nothing to commit, working tree clean\n",
            "Enumerating objects: 4, done.\n",
            "Counting objects: 100% (4/4), done.\n",
            "Delta compression using up to 2 threads\n",
            "Compressing objects: 100% (3/3), done.\n",
            "Writing objects: 100% (3/3), 21.18 KiB | 4.24 MiB/s, done.\n",
            "Total 3 (delta 1), reused 0 (delta 0), pack-reused 0\n",
            "remote: Resolving deltas: 100% (1/1), completed with 1 local object.\u001b[K\n",
            "remote: \u001b[1;31merror\u001b[m: GH013: Repository rule violations found for refs/heads/main.\u001b[K\n",
            "remote: \n",
            "remote: - GITHUB PUSH PROTECTION\u001b[K\n",
            "remote:   —————————————————————————————————————————\u001b[K\n",
            "remote:     Resolve the following violations before pushing again\u001b[K\n",
            "remote: \n",
            "remote:     - Push cannot contain secrets\u001b[K\n",
            "remote: \n",
            "remote:     \u001b[K\n",
            "remote:      (?) Learn how to resolve a blocked push\u001b[K\n",
            "remote:      https://docs.github.com/code-security/secret-scanning/working-with-secret-scanning-and-push-protection/working-with-push-protection-from-the-command-line#resolving-a-blocked-push\u001b[K\n",
            "remote:     \u001b[K\n",
            "remote:     \u001b[K\n",
            "remote:       —— Hugging Face User Access Token ————————————————————\u001b[K\n",
            "remote:        locations:\u001b[K\n",
            "remote:          - commit: 427ec05d9b8e409dd832b2bf98d179a6bd3f180a\u001b[K\n",
            "remote:            path: RAG.ipynb:70\u001b[K\n",
            "remote:     \u001b[K\n",
            "remote:        (?) To push, remove secret from commit(s) or follow this URL to allow the secret.\u001b[K\n",
            "remote:        https://github.com/aliyzd95/simple-rag-with-langchain/security/secret-scanning/unblock-secret/2xyFG2iHFFO4oajjFvVVQuR6Ajh\u001b[K\n",
            "remote:     \u001b[K\n",
            "remote: \n",
            "remote: \n",
            "To https://github.com/aliyzd95/simple-rag-with-langchain.git\n",
            " \u001b[31m! [remote rejected]\u001b[m main -> main (push declined due to repository rule violations)\n",
            "\u001b[31merror: failed to push some refs to 'https://github.com/aliyzd95/simple-rag-with-langchain.git'\n",
            "\u001b[m"
          ]
        }
      ]
    }
  ],
  "metadata": {
    "accelerator": "GPU",
    "colab": {
      "gpuType": "T4",
      "provenance": []
    },
    "kernelspec": {
      "display_name": "Python 3",
      "name": "python3"
    },
    "language_info": {
      "name": "python"
    },
  },
  "nbformat": 4,
  "nbformat_minor": 0
}